{
 "cells": [
  {
   "cell_type": "code",
   "execution_count": 2,
   "metadata": {},
   "outputs": [],
   "source": [
    "import numpy as np\n",
    "import json\n",
    "import faiss\n",
    "from sentence_transformers import SentenceTransformer"
   ]
  },
  {
   "cell_type": "code",
   "execution_count": 31,
   "metadata": {},
   "outputs": [
    {
     "name": "stdout",
     "output_type": "stream",
     "text": [
      "Added song db.\n",
      "author:Abdul Alim_song1\n",
      "['আর কতকাল ভাসবো আমি', 'দুঃখের সারী গাইয়া', 'জনম গেল ঘাটে ঘাটে আমার', 'জনম গেল ঘাটে ঘাটে', 'ভাঙা তরী বাইয়া রে আমার', 'ভাঙ্গা তরী বাইয়া', 'পরের বোঝা বইয়া বইয়া', 'নৌকার গলুই গেছে খইয়ারে', 'আমার নিজের বোঝা কে বলিবে রে', 'রাখবো কোথায় যাওয়ারে আমি', 'রাখবো কোথায় যাওয়া', 'এই জীবনে দেখলাম নদীর', 'কতই ভাঙা গড়া', 'আমার দেহতরী ভাঙলো শুধু', 'না জাগিলো চড়া', 'আমার ভবে কেউ কি আছে', 'দুঃখ কবো তাহার কাছে রে', 'আমি রইলাম শুধু দয়াল আল্লাহ রে', 'আমি রইলাম শুধু দয়াল আল্লাহ', 'তোমার পানে চাইয়া রে', 'আমি তোমার পানে চাইয়া']\n",
      "author:Abdul Alim_song2\n",
      "['পরের জায়গা পরের জমিন', 'ঘর বানাইয়া আমি রই', 'আমি তো এই ঘরের মালিক নই', 'সেই ঘরখানা যার জমিদারি', 'আমি পাইনা তাহার হুকুমদারী', 'আমি পাইনা জমিদারের দেখা', 'মনের দুঃখ কারে কই', 'জমিদারের ইচ্ছামত দেই না জমি চাষ', 'তাইতো ফসল ফলে না রে', 'দুঃখ বারো মাস', 'আমি খাজনাপাতি সবই দিলাম', 'তবু জমিন আমার হয় যে নীলাম', 'আমি চলি যে তার মন জোগাইয়া', 'দাখিলায় মেলে না সই', 'পরের জায়গা পরের জমিন', 'ঘর বানাইয়া আমি রই', 'আমি তো এই ঘরের মালিক নই']\n",
      "author:Abdul Hai Al Hadi_song1\n",
      "['তোমাকে মানায় ভাল', 'যখন তুমি লজ্জা রাঙ্গা আবির মেখে সাজো', 'গোধুলির আবরণে নতুন নতুন সুরের ছোয়া', 'আমার প্রাণে বাজো', 'তোমার ঐ লাজুক আখি পদ্মকলি', 'নিরবে সকল কথা যায় গো বলি', 'মনে হয় প্রেমের তৃষা বুকে নিয়ে', 'নূপুর হয়ে বাজো', 'গোধুলির আবরণে নতুন নতুন সুরের ছোয়া', 'আমার প্রাণে বাজো', 'সুনীল ঐ আকাশ বুঝি সন্ধ্যা সাঝে', 'হারানো দিনের কিছু কথার মাঝে', 'খুজে পাই তোমার মত লজ্জা এখন', 'পাই নি ভেবে আজো', 'গোধুলির আবরণে নতুন নতুন সুরের ছোয়া', 'আমার প্রাণে বাজো']\n"
     ]
    }
   ],
   "source": [
    "song_db = None\n",
    "\n",
    "with open('song_db.json', 'r', encoding='utf-8') as file:\n",
    "    song_db = json.load(file)\n",
    "\n",
    "print(\"Added song db.\")\n",
    "\n",
    "count = 0\n",
    "for key, val in song_db.items():\n",
    "    print(f\"author:{key}\")\n",
    "    print(f\"{val}\")\n",
    "    count += 1\n",
    "    if count == 3:\n",
    "        break"
   ]
  },
  {
   "cell_type": "code",
   "execution_count": 33,
   "metadata": {},
   "outputs": [],
   "source": [
    "model = SentenceTransformer(\"l3cube-pune/bengali-sentence-similarity-sbert\")"
   ]
  },
  {
   "cell_type": "code",
   "execution_count": 35,
   "metadata": {},
   "outputs": [],
   "source": [
    "# song_embeddings = dict()\n",
    "\n",
    "# for key, value in song_db.items():\n",
    "#     song_embeddings[key] = model.encode(value)\n",
    "#     print(f\"{key} embedding done.\")"
   ]
  },
  {
   "cell_type": "code",
   "execution_count": null,
   "metadata": {},
   "outputs": [],
   "source": []
  }
 ],
 "metadata": {
  "kernelspec": {
   "display_name": "cs661",
   "language": "python",
   "name": "python3"
  },
  "language_info": {
   "codemirror_mode": {
    "name": "ipython",
    "version": 3
   },
   "file_extension": ".py",
   "mimetype": "text/x-python",
   "name": "python",
   "nbconvert_exporter": "python",
   "pygments_lexer": "ipython3",
   "version": "3.10.13"
  }
 },
 "nbformat": 4,
 "nbformat_minor": 2
}
